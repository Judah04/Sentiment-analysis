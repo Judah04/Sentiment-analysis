{
 "cells": [
  {
   "cell_type": "code",
   "execution_count": null,
   "id": "291da4cc-f238-4be3-8b1f-b6c1763f6979",
   "metadata": {},
   "outputs": [],
   "source": [
    "import requests\n",
    "import pandas as pd\n",
    "\n",
    "api_key = \"4815e239fd0c03999e8f272f0f79f2ea\"\n",
    "\n",
    "query = \"VAR\"\n",
    "\n",
    "total_tweets = 4000\n",
    "\n",
    "num_per_request = 100\n",
    "\n",
    "# Number of tweets to process in each iteration\n",
    "chunk_size = 1000\n",
    "\n",
    "# Create an empty list to store all retrieved tweets\n",
    "all_tweets = []\n",
    "\n",
    "# Make multiple API calls to retrieve the specified number of tweets\n",
    "for i in range(0, total_tweets, num_per_request):\n",
    "    payload = {\n",
    "        \"api_key\": api_key,\n",
    "        \"query\": query,\n",
    "        \"num\": min(num_per_request, total_tweets - i), # Adjust for the last chunk\n",
    "        \"start\": i\n",
    "    }\n",
    "\n",
    "    response = requests.get(\"http://api.scraperapi.com/structured/twitter/search\", params=payload)\n",
    "\n",
    "    data = response.json()\n",
    "\n",
    "    # Add retrieved tweets to the list\n",
    "    all_tweets.extend(data[\"organic_results\"])\n",
    "\n",
    "    # Process tweets in chunks\n",
    "    if len(all_tweets) >= chunk_size:\n",
    "        # Create a DataFrame from the list of tweets\n",
    "        df = pd.DataFrame(all_tweets)\n",
    "\n",
    "        # Save the DataFrame to CSV (adjust the file path accordingly)\n",
    "        df.to_csv('twitter_data.csv', mode='a', index=False, header=not i)\n",
    "\n",
    "        # Clear the list for the next chunk\n",
    "        all_tweets = []\n",
    "\n",
    "# Process the remaining tweets\n",
    "if all_tweets:\n",
    "    df = pd.DataFrame(all_tweets)\n",
    "    df.to_csv('twitter_data.csv', mode='a', index=False, header=False)\n",
    "# Load the saved CSV file if needed\n",
    "final_df = pd.read_csv('twitter_data.csv')"
   ]
  }
 ],
 "metadata": {
  "kernelspec": {
   "display_name": "Python 3 (ipykernel)",
   "language": "python",
   "name": "python3"
  },
  "language_info": {
   "codemirror_mode": {
    "name": "ipython",
    "version": 3
   },
   "file_extension": ".py",
   "mimetype": "text/x-python",
   "name": "python",
   "nbconvert_exporter": "python",
   "pygments_lexer": "ipython3",
   "version": "3.11.5"
  }
 },
 "nbformat": 4,
 "nbformat_minor": 5
}
