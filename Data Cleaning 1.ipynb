{
 "cells": [
  {
   "cell_type": "code",
   "execution_count": 148,
   "id": "3e244097-e7b4-4489-a21f-ff2e55ab916d",
   "metadata": {},
   "outputs": [],
   "source": [
    "import pandas as pd \n",
    "import warnings\n",
    "import re\n",
    "\n",
    "warnings.filterwarnings('ignore')  # Ignore all warnings\n",
    "\n",
    "file_path = \"twitter_data.csv\"\n",
    "final_df = pd.read_csv(file_path)\n",
    "df = final_df"
   ]
  },
  {
   "cell_type": "code",
   "execution_count": 149,
   "id": "59389977-1823-4c4c-b04a-0f80de7a9f8a",
   "metadata": {},
   "outputs": [],
   "source": [
    "#Assigning columns\n",
    "\n",
    "#Reset the index\n",
    "df = df.reset_index(drop=True)\n",
    "\n",
    "#Define new column names\n",
    "new_columns = [\n",
    "    'index',\n",
    "    'user',\n",
    "    'tweet',\n",
    "    'VAR',\n",
    "    'TwitterLink',\n",
    "    'username'\n",
    "]\n",
    "\n",
    "#Update column names with str.strip() to remove whitespace\n",
    "df.columns = [column.strip() for column in new_columns]\n",
    "\n",
    "#Handle duplicate column names\n",
    "df.columns = df.columns.unique()\n"
   ]
  },
  {
   "cell_type": "code",
   "execution_count": 150,
   "id": "de31fcf7-8c22-4513-8a77-c9dcd87ffb37",
   "metadata": {},
   "outputs": [],
   "source": [
    "#Remove the index column\n",
    "df = df.drop(columns=['index'], axis=1)\n",
    "\n",
    "#Remove the VAR column\n",
    "df = df.drop(columns=['VAR'], axis=1)"
   ]
  },
  {
   "cell_type": "code",
   "execution_count": 151,
   "id": "3c1af435-3987-4e7a-b4c6-5dd83937d097",
   "metadata": {},
   "outputs": [],
   "source": [
    "#Convert the user and tweet columns to strings\n",
    "df[\"user\"] = df[\"user\"].astype(str)\n",
    "\n",
    "df[\"tweet\"] = df[\"tweet\"].astype(str)"
   ]
  },
  {
   "cell_type": "code",
   "execution_count": 152,
   "id": "368f88fb-7086-477f-adbe-0cfbed5295f1",
   "metadata": {},
   "outputs": [],
   "source": [
    "#Cleaning first column (users)\n",
    "df['user'] = df['user'].apply(lambda x: x.lstrip('\"'))\n",
    "\n",
    "#Define a function to handle usernames and remove characters after '-'\n",
    "def process_username(text):\n",
    "    #Extract username if it starts with '@'\n",
    "    matches = re.findall(r'@(\\w+)', text)\n",
    "    if matches:\n",
    "        return '@' + matches[0]\n",
    "\n",
    "    #Remove characters after '-'\n",
    "    if \"-\" in text:\n",
    "        return re.sub(r\"[^\\w\\s]\", \"\", text)\n",
    "\n",
    "    return text\n",
    "\n",
    "#Apply the function to the \"user\" column\n",
    "df[\"user\"] = df[\"user\"].apply(process_username)\n",
    "\n",
    "#Define a function to remove characters after \"on X:\"\n",
    "def remove_after_on_x(text):\n",
    "    return text.split(\"on X:\")[0]\n",
    "\n",
    "#Apply the function to the \"user\" column\n",
    "df[\"user\"] = df[\"user\"].apply(remove_after_on_x)\n",
    "\n",
    "#Romove words after 3rd word\n",
    "def remove_words_after_3rd(text):\n",
    "    words = text.split()\n",
    "    words = words[:3]\n",
    "    return \" \".join(words)\n",
    "\n",
    "df['user'] = df['user'].apply(remove_words_after_3rd)\n",
    "\n",
    "#Define a function to compare the first 4 words of \"user\" and \"tweet\" columns\n",
    "def compare_and_replace(row):\n",
    "    user_words = row[\"user\"].split()[:3]\n",
    "    tweet_words = row[\"tweet\"].split()[:3]\n",
    "\n",
    "    if user_words == tweet_words:\n",
    "        return \"unknown user\"\n",
    "    else:\n",
    "        return row[\"user\"]\n",
    "\n",
    "# Apply the function to create a new \"user\" column with the changes\n",
    "df[\"user\"] = df.apply(compare_and_replace, axis=1)\n",
    "\n",
    "#Deleting images\n",
    "# Remove rows where the \"user\" column begins with \"file:///var/mobile/Library/\"\n",
    "df = df[~df['user'].str.startswith(\"file:///var/mobile/Library/\")]\n",
    "\n",
    "#Remove 'Xcom' from every row in the \"user\" column\n",
    "df['user'] = df['user'].str.replace('Xcom', '')\n",
    "\n",
    "\n",
    "#Display only the first column\n",
    "#print(df.iloc[:, 0])\n"
   ]
  },
  {
   "cell_type": "code",
   "execution_count": 153,
   "id": "8a63e7b4-7491-4276-8165-eea6bb7d5a68",
   "metadata": {},
   "outputs": [],
   "source": [
    "#Cleaning the last row (username)\n",
    "\n",
    "# Extract the desired part using a regular expression\n",
    "df['username'] = df['username'].str.extract(r'https://twitter.com › (\\S+) › status', expand=False)\n",
    "\n",
    "# Display the updated DataFrame\n",
    "#print(df['username'])\n"
   ]
  },
  {
   "cell_type": "code",
   "execution_count": 154,
   "id": "6cd4309e-5cef-4c2d-998f-d0df83eec15e",
   "metadata": {},
   "outputs": [],
   "source": [
    "#df.columns\n",
    "#print(df.head(10))\n",
    "#print(df.iloc[1600, 0])\n",
    "#print(len(df))\n"
   ]
  },
  {
   "cell_type": "code",
   "execution_count": 155,
   "id": "4d760113-a860-458a-bdcb-f15842dd5ea8",
   "metadata": {},
   "outputs": [],
   "source": [
    "#Saving as csv file \n",
    "# Assuming your DataFrame is named df\n",
    "df.to_csv('updated_twitter_data_after_cleaning_process.csv', index=False)\n",
    "\n",
    "#checking_if_saved_file_is_empty = pd.read_csv(\"updated_twitter_data_after_cleaning_process.csv\")\n",
    "#print(checking_if_saved_file_is_empty.head(10))"
   ]
  },
  {
   "cell_type": "code",
   "execution_count": null,
   "id": "8f507080-a588-4df1-826f-56e534aa3311",
   "metadata": {},
   "outputs": [],
   "source": []
  }
 ],
 "metadata": {
  "kernelspec": {
   "display_name": "Python 3 (ipykernel)",
   "language": "python",
   "name": "python3"
  },
  "language_info": {
   "codemirror_mode": {
    "name": "ipython",
    "version": 3
   },
   "file_extension": ".py",
   "mimetype": "text/x-python",
   "name": "python",
   "nbconvert_exporter": "python",
   "pygments_lexer": "ipython3",
   "version": "3.11.5"
  }
 },
 "nbformat": 4,
 "nbformat_minor": 5
}
